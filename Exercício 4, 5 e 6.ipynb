{
 "cells": [
  {
   "cell_type": "code",
   "execution_count": 679,
   "metadata": {},
   "outputs": [],
   "source": [
    "## Exercício 4\n",
    "\n",
    "## Utilizando o dataset Fifa19: Imagine que você é diretor de um\n",
    "## clube e possui um certo orçamento para comprar 11 jogadores que \n",
    "## irão compor o time titular. Cada jogador é contratado de acordo \n",
    "## com a release clause. O presidente deseja trazer jogadores jovens,\n",
    "## sendo assim, pede que você não contrate ninguém acima de 29 anos. \n",
    "## O presidente também demanda que você não traga nenhuma estrelinha \n",
    "## que possa conturbar o elenco, sendo assim, o preço máximo a ser \n",
    "## pago por um jogador não pode ultrapassa os 15 milhões de euros. \n",
    "## Quais são os 11 jogadores de maior Overall que você consegue \n",
    "## trazer para seu clube? Isto, é claro, seguindo as restrições \n",
    "## orçamentárias e etárias impostas pelo seu chefe.\n",
    "## Para fins do exercício, desconsidere aqui as posições táticas\n",
    "## dos jogadores. Ou seja, traga 11 atacantes se isso for a melhor \n",
    "## escolha."
   ]
  },
  {
   "cell_type": "code",
   "execution_count": 693,
   "metadata": {},
   "outputs": [],
   "source": [
    "import pandas as pd\n",
    "import numpy as np\n",
    "complete_data = pd.read_csv('fifa19.csv')\n",
    "\n",
    "## pegando apenas o q vamos usar\n",
    "data = complete_data[['Name','Age','Release Clause','Overall']]"
   ]
  },
  {
   "cell_type": "code",
   "execution_count": 694,
   "metadata": {},
   "outputs": [],
   "source": [
    "## tirando jogadores acima de 29 anos.\n",
    "data = data[data['Age']<=29]"
   ]
  },
  {
   "cell_type": "code",
   "execution_count": 695,
   "metadata": {},
   "outputs": [],
   "source": [
    "# ## Limpando e transformando de string para float\n",
    "data['Release Clause'] = data['Release Clause'].str.replace('€', '')\n",
    "\n",
    "data['Release Clause'] = (data['Release Clause'].replace(r'[KM]+$', '', regex=True).astype(float) * \\\n",
    "data['Release Clause'].str.extract(r'[\\d\\.]+([KM]+)', expand=False).fillna(1).replace(['K','M'], [10**3, 10**6]).astype(int))"
   ]
  },
  {
   "cell_type": "code",
   "execution_count": 698,
   "metadata": {},
   "outputs": [],
   "source": [
    "## tirando estrelhinhas que ultrapassam 15 milhões\n",
    "data = data[data['Release Clause']<15000000]"
   ]
  },
  {
   "cell_type": "code",
   "execution_count": 699,
   "metadata": {},
   "outputs": [],
   "source": [
    "## ordenando por maiores valores de overall\n",
    "data = data.sort_values(['Overall'],ascending=False)"
   ]
  },
  {
   "cell_type": "code",
   "execution_count": 700,
   "metadata": {},
   "outputs": [],
   "source": [
    "## lista dos 11 melhores jogadores de acordo com as restrições\n",
    "\n",
    "lista_11 = data[:11]"
   ]
  },
  {
   "cell_type": "code",
   "execution_count": null,
   "metadata": {},
   "outputs": [],
   "source": []
  },
  {
   "cell_type": "code",
   "execution_count": 701,
   "metadata": {},
   "outputs": [],
   "source": [
    "## Exercício 5\n",
    "\n",
    "\n",
    "## Utilizando o dataset Fifa19: Utilizando a tabela com os jogadores \n",
    "## que você selecionou no exercício anterior, crie uma coluna chamada \n",
    "## High_Price que recebe 1 se a Release Clause do jogador está acima \n",
    "## da mediana dos 11 selecionados, e 0 caso contrário."
   ]
  },
  {
   "cell_type": "code",
   "execution_count": 702,
   "metadata": {},
   "outputs": [
    {
     "data": {
      "text/plain": [
       "13800000.0"
      ]
     },
     "execution_count": 702,
     "metadata": {},
     "output_type": "execute_result"
    }
   ],
   "source": [
    "## descobrindo a mediana de Release Clause dos 11 jogadores\n",
    "mediana = lista_11['Release Clause'].median()\n",
    "mediana"
   ]
  },
  {
   "cell_type": "code",
   "execution_count": 703,
   "metadata": {},
   "outputs": [
    {
     "name": "stderr",
     "output_type": "stream",
     "text": [
      "/home/luiza.vieira/anaconda3/envs/tensorflow/lib/python3.6/site-packages/ipykernel_launcher.py:3: SettingWithCopyWarning: \n",
      "A value is trying to be set on a copy of a slice from a DataFrame.\n",
      "Try using .loc[row_indexer,col_indexer] = value instead\n",
      "\n",
      "See the caveats in the documentation: http://pandas.pydata.org/pandas-docs/stable/user_guide/indexing.html#returning-a-view-versus-a-copy\n",
      "  This is separate from the ipykernel package so we can avoid doing imports until\n"
     ]
    }
   ],
   "source": [
    "## Condicionando 1 para jogadores com valor maior q a mediana dos 11 selecionados\n",
    "## e 0 para jogadores com valor menor q a mediana \n",
    "lista_11['High Price'] = np.where(lista_11['Release Clause']>mediana, '1', '0')"
   ]
  },
  {
   "cell_type": "code",
   "execution_count": 704,
   "metadata": {},
   "outputs": [
    {
     "data": {
      "text/html": [
       "<div>\n",
       "<style scoped>\n",
       "    .dataframe tbody tr th:only-of-type {\n",
       "        vertical-align: middle;\n",
       "    }\n",
       "\n",
       "    .dataframe tbody tr th {\n",
       "        vertical-align: top;\n",
       "    }\n",
       "\n",
       "    .dataframe thead th {\n",
       "        text-align: right;\n",
       "    }\n",
       "</style>\n",
       "<table border=\"1\" class=\"dataframe\">\n",
       "  <thead>\n",
       "    <tr style=\"text-align: right;\">\n",
       "      <th></th>\n",
       "      <th>Name</th>\n",
       "      <th>Age</th>\n",
       "      <th>Release Clause</th>\n",
       "      <th>Overall</th>\n",
       "      <th>High Price</th>\n",
       "    </tr>\n",
       "  </thead>\n",
       "  <tbody>\n",
       "    <tr>\n",
       "      <th>578</th>\n",
       "      <td>M. Campaña</td>\n",
       "      <td>29</td>\n",
       "      <td>14800000.0</td>\n",
       "      <td>79</td>\n",
       "      <td>1</td>\n",
       "    </tr>\n",
       "    <tr>\n",
       "      <th>817</th>\n",
       "      <td>V. Chiricheş</td>\n",
       "      <td>28</td>\n",
       "      <td>14500000.0</td>\n",
       "      <td>78</td>\n",
       "      <td>1</td>\n",
       "    </tr>\n",
       "    <tr>\n",
       "      <th>785</th>\n",
       "      <td>C. Izquierdoz</td>\n",
       "      <td>29</td>\n",
       "      <td>11200000.0</td>\n",
       "      <td>78</td>\n",
       "      <td>0</td>\n",
       "    </tr>\n",
       "    <tr>\n",
       "      <th>1128</th>\n",
       "      <td>Cote</td>\n",
       "      <td>28</td>\n",
       "      <td>14700000.0</td>\n",
       "      <td>77</td>\n",
       "      <td>1</td>\n",
       "    </tr>\n",
       "    <tr>\n",
       "      <th>1057</th>\n",
       "      <td>Rafael Carioca</td>\n",
       "      <td>29</td>\n",
       "      <td>13600000.0</td>\n",
       "      <td>77</td>\n",
       "      <td>0</td>\n",
       "    </tr>\n",
       "    <tr>\n",
       "      <th>1058</th>\n",
       "      <td>A. McCarthy</td>\n",
       "      <td>28</td>\n",
       "      <td>13800000.0</td>\n",
       "      <td>77</td>\n",
       "      <td>0</td>\n",
       "    </tr>\n",
       "    <tr>\n",
       "      <th>1075</th>\n",
       "      <td>Jordi Masip</td>\n",
       "      <td>29</td>\n",
       "      <td>13200000.0</td>\n",
       "      <td>77</td>\n",
       "      <td>0</td>\n",
       "    </tr>\n",
       "    <tr>\n",
       "      <th>1076</th>\n",
       "      <td>B. Espinosa</td>\n",
       "      <td>28</td>\n",
       "      <td>14700000.0</td>\n",
       "      <td>77</td>\n",
       "      <td>1</td>\n",
       "    </tr>\n",
       "    <tr>\n",
       "      <th>1082</th>\n",
       "      <td>W. Reid</td>\n",
       "      <td>29</td>\n",
       "      <td>13300000.0</td>\n",
       "      <td>77</td>\n",
       "      <td>0</td>\n",
       "    </tr>\n",
       "    <tr>\n",
       "      <th>1108</th>\n",
       "      <td>M. Lang</td>\n",
       "      <td>27</td>\n",
       "      <td>14200000.0</td>\n",
       "      <td>77</td>\n",
       "      <td>1</td>\n",
       "    </tr>\n",
       "    <tr>\n",
       "      <th>1111</th>\n",
       "      <td>Jefferson</td>\n",
       "      <td>29</td>\n",
       "      <td>13000000.0</td>\n",
       "      <td>77</td>\n",
       "      <td>0</td>\n",
       "    </tr>\n",
       "  </tbody>\n",
       "</table>\n",
       "</div>"
      ],
      "text/plain": [
       "                Name  Age  Release Clause  Overall High Price\n",
       "578       M. Campaña   29      14800000.0       79          1\n",
       "817     V. Chiricheş   28      14500000.0       78          1\n",
       "785    C. Izquierdoz   29      11200000.0       78          0\n",
       "1128            Cote   28      14700000.0       77          1\n",
       "1057  Rafael Carioca   29      13600000.0       77          0\n",
       "1058     A. McCarthy   28      13800000.0       77          0\n",
       "1075     Jordi Masip   29      13200000.0       77          0\n",
       "1076     B. Espinosa   28      14700000.0       77          1\n",
       "1082         W. Reid   29      13300000.0       77          0\n",
       "1108         M. Lang   27      14200000.0       77          1\n",
       "1111       Jefferson   29      13000000.0       77          0"
      ]
     },
     "execution_count": 704,
     "metadata": {},
     "output_type": "execute_result"
    }
   ],
   "source": [
    "lista_11"
   ]
  },
  {
   "cell_type": "code",
   "execution_count": null,
   "metadata": {},
   "outputs": [],
   "source": []
  },
  {
   "cell_type": "code",
   "execution_count": 705,
   "metadata": {},
   "outputs": [],
   "source": [
    "## Exercício 6 \n",
    "\n",
    "## Utilizando o dataset Fifa19: Apresente os histogramas com a \n",
    "## distribuição do peso, idade e salário dos jogadores que você \n",
    "## escolheu no exercício 4."
   ]
  },
  {
   "cell_type": "code",
   "execution_count": 707,
   "metadata": {},
   "outputs": [
    {
     "data": {
      "text/html": [
       "<div>\n",
       "<style scoped>\n",
       "    .dataframe tbody tr th:only-of-type {\n",
       "        vertical-align: middle;\n",
       "    }\n",
       "\n",
       "    .dataframe tbody tr th {\n",
       "        vertical-align: top;\n",
       "    }\n",
       "\n",
       "    .dataframe thead th {\n",
       "        text-align: right;\n",
       "    }\n",
       "</style>\n",
       "<table border=\"1\" class=\"dataframe\">\n",
       "  <thead>\n",
       "    <tr style=\"text-align: right;\">\n",
       "      <th></th>\n",
       "      <th>Name</th>\n",
       "      <th>Release Clause_x</th>\n",
       "      <th>Overall_x</th>\n",
       "      <th>High Price</th>\n",
       "      <th>Unnamed: 0</th>\n",
       "      <th>ID</th>\n",
       "      <th>Age_y</th>\n",
       "      <th>Photo</th>\n",
       "      <th>Nationality</th>\n",
       "      <th>Flag</th>\n",
       "      <th>...</th>\n",
       "      <th>Penalties</th>\n",
       "      <th>Composure</th>\n",
       "      <th>Marking</th>\n",
       "      <th>StandingTackle</th>\n",
       "      <th>SlidingTackle</th>\n",
       "      <th>GKDiving</th>\n",
       "      <th>GKHandling</th>\n",
       "      <th>GKKicking</th>\n",
       "      <th>GKPositioning</th>\n",
       "      <th>GKReflexes</th>\n",
       "    </tr>\n",
       "  </thead>\n",
       "  <tbody>\n",
       "    <tr>\n",
       "      <th>0</th>\n",
       "      <td>M. Campaña</td>\n",
       "      <td>14800000.0</td>\n",
       "      <td>79</td>\n",
       "      <td>1</td>\n",
       "      <td>578</td>\n",
       "      <td>225647</td>\n",
       "      <td>29</td>\n",
       "      <td>https://cdn.sofifa.org/players/4/19/225647.png</td>\n",
       "      <td>Uruguay</td>\n",
       "      <td>https://cdn.sofifa.org/flags/60.png</td>\n",
       "      <td>...</td>\n",
       "      <td>23.0</td>\n",
       "      <td>51.0</td>\n",
       "      <td>22.0</td>\n",
       "      <td>16.0</td>\n",
       "      <td>18.0</td>\n",
       "      <td>81.0</td>\n",
       "      <td>75.0</td>\n",
       "      <td>74.0</td>\n",
       "      <td>80.0</td>\n",
       "      <td>82.0</td>\n",
       "    </tr>\n",
       "    <tr>\n",
       "      <th>1</th>\n",
       "      <td>V. Chiricheş</td>\n",
       "      <td>14500000.0</td>\n",
       "      <td>78</td>\n",
       "      <td>1</td>\n",
       "      <td>817</td>\n",
       "      <td>205943</td>\n",
       "      <td>28</td>\n",
       "      <td>https://cdn.sofifa.org/players/4/19/205943.png</td>\n",
       "      <td>Romania</td>\n",
       "      <td>https://cdn.sofifa.org/flags/39.png</td>\n",
       "      <td>...</td>\n",
       "      <td>51.0</td>\n",
       "      <td>69.0</td>\n",
       "      <td>83.0</td>\n",
       "      <td>82.0</td>\n",
       "      <td>78.0</td>\n",
       "      <td>7.0</td>\n",
       "      <td>11.0</td>\n",
       "      <td>10.0</td>\n",
       "      <td>14.0</td>\n",
       "      <td>13.0</td>\n",
       "    </tr>\n",
       "    <tr>\n",
       "      <th>2</th>\n",
       "      <td>C. Izquierdoz</td>\n",
       "      <td>11200000.0</td>\n",
       "      <td>78</td>\n",
       "      <td>0</td>\n",
       "      <td>785</td>\n",
       "      <td>214766</td>\n",
       "      <td>29</td>\n",
       "      <td>https://cdn.sofifa.org/players/4/19/214766.png</td>\n",
       "      <td>Argentina</td>\n",
       "      <td>https://cdn.sofifa.org/flags/52.png</td>\n",
       "      <td>...</td>\n",
       "      <td>51.0</td>\n",
       "      <td>58.0</td>\n",
       "      <td>78.0</td>\n",
       "      <td>79.0</td>\n",
       "      <td>78.0</td>\n",
       "      <td>8.0</td>\n",
       "      <td>11.0</td>\n",
       "      <td>7.0</td>\n",
       "      <td>8.0</td>\n",
       "      <td>8.0</td>\n",
       "    </tr>\n",
       "  </tbody>\n",
       "</table>\n",
       "<p>3 rows × 91 columns</p>\n",
       "</div>"
      ],
      "text/plain": [
       "            Name  Release Clause_x  Overall_x High Price  Unnamed: 0      ID  \\\n",
       "0     M. Campaña        14800000.0         79          1         578  225647   \n",
       "1   V. Chiricheş        14500000.0         78          1         817  205943   \n",
       "2  C. Izquierdoz        11200000.0         78          0         785  214766   \n",
       "\n",
       "   Age_y                                           Photo Nationality  \\\n",
       "0     29  https://cdn.sofifa.org/players/4/19/225647.png     Uruguay   \n",
       "1     28  https://cdn.sofifa.org/players/4/19/205943.png     Romania   \n",
       "2     29  https://cdn.sofifa.org/players/4/19/214766.png   Argentina   \n",
       "\n",
       "                                  Flag  ...  Penalties  Composure Marking  \\\n",
       "0  https://cdn.sofifa.org/flags/60.png  ...       23.0       51.0    22.0   \n",
       "1  https://cdn.sofifa.org/flags/39.png  ...       51.0       69.0    83.0   \n",
       "2  https://cdn.sofifa.org/flags/52.png  ...       51.0       58.0    78.0   \n",
       "\n",
       "  StandingTackle SlidingTackle GKDiving  GKHandling GKKicking  GKPositioning  \\\n",
       "0           16.0          18.0     81.0        75.0      74.0           80.0   \n",
       "1           82.0          78.0      7.0        11.0      10.0           14.0   \n",
       "2           79.0          78.0      8.0        11.0       7.0            8.0   \n",
       "\n",
       "   GKReflexes  \n",
       "0        82.0  \n",
       "1        13.0  \n",
       "2         8.0  \n",
       "\n",
       "[3 rows x 91 columns]"
      ]
     },
     "execution_count": 707,
     "metadata": {},
     "output_type": "execute_result"
    }
   ],
   "source": [
    "## removendo algumas colunas repetidas\n",
    "graph_list = pd.merge(lista_11, complete_data, on=['Name'])\n",
    "graph_list = graph_list.drop(columns=['Age_x','Release Clause_y'])\n",
    "graph_list.head(3)"
   ]
  },
  {
   "cell_type": "code",
   "execution_count": 709,
   "metadata": {},
   "outputs": [],
   "source": [
    "import seaborn as sns\n",
    "import matplotlib.pyplot as plt"
   ]
  },
  {
   "cell_type": "code",
   "execution_count": 710,
   "metadata": {},
   "outputs": [
    {
     "data": {
      "text/plain": [
       "<matplotlib.legend.Legend at 0x7f52908a2e80>"
      ]
     },
     "execution_count": 710,
     "metadata": {},
     "output_type": "execute_result"
    },
    {
     "data": {
      "image/png": "[encoded data removed]",
      "text/plain": [
       "<Figure size 432x288 with 1 Axes>"
      ]
     },
     "metadata": {
      "needs_background": "light"
     },
     "output_type": "display_data"
    }
   ],
   "source": [
    "## HISTOGRAMA COM A DISTRIBUIÇÃO DA IDADE\n",
    "sns.distplot( graph_list[\"Age_y\"] , color=\"skyblue\", label=\"Age\")\n",
    "plt.legend()"
   ]
  },
  {
   "cell_type": "code",
   "execution_count": 711,
   "metadata": {},
   "outputs": [],
   "source": [
    "## Limpando o Wieght e transoformando em float\n",
    "graph_list['Weight'] = graph_list['Weight'].str.replace('lbs', '')\n",
    "graph_list['Weight'] = graph_list['Weight'].astype('float')\n"
   ]
  },
  {
   "cell_type": "code",
   "execution_count": 712,
   "metadata": {},
   "outputs": [
    {
     "data": {
      "text/plain": [
       "<matplotlib.legend.Legend at 0x7f52908a24e0>"
      ]
     },
     "execution_count": 712,
     "metadata": {},
     "output_type": "execute_result"
    },
    {
     "data": {
      "image/png": "[encoded data removed]",
      "text/plain": [
       "<Figure size 432x288 with 1 Axes>"
      ]
     },
     "metadata": {
      "needs_background": "light"
     },
     "output_type": "display_data"
    }
   ],
   "source": [
    "## HISTOGRAMA COM A DISTRIBUIÇÃO DO PESO\n",
    "sns.distplot( graph_list[\"Weight\"] , color=\"skyblue\", label=\"Weigth\")\n",
    "plt.legend()"
   ]
  },
  {
   "cell_type": "code",
   "execution_count": 713,
   "metadata": {},
   "outputs": [
    {
     "data": {
      "text/plain": [
       "<matplotlib.legend.Legend at 0x7f52908a4198>"
      ]
     },
     "execution_count": 713,
     "metadata": {},
     "output_type": "execute_result"
    },
    {
     "data": {
      "image/png": "[encoded data removed]",
      "text/plain": [
       "<Figure size 432x288 with 1 Axes>"
      ]
     },
     "metadata": {
      "needs_background": "light"
     },
     "output_type": "display_data"
    }
   ],
   "source": [
    "## HISTOGRAMA COM A DISTRIBUIÇÃO DO PESO\n",
    "sns.distplot( graph_list[\"Release Clause_x\"] , color=\"skyblue\", label=\"Release Clause\")\n",
    "plt.legend()"
   ]
  },
  {
   "cell_type": "code",
   "execution_count": null,
   "metadata": {},
   "outputs": [],
   "source": []
  },
  {
   "cell_type": "code",
   "execution_count": null,
   "metadata": {},
   "outputs": [],
   "source": []
  },
  {
   "cell_type": "code",
   "execution_count": null,
   "metadata": {},
   "outputs": [],
   "source": []
  },
  {
   "cell_type": "code",
   "execution_count": null,
   "metadata": {},
   "outputs": [],
   "source": []
  },
  {
   "cell_type": "code",
   "execution_count": null,
   "metadata": {},
   "outputs": [],
   "source": []
  },
  {
   "cell_type": "code",
   "execution_count": null,
   "metadata": {},
   "outputs": [],
   "source": []
  },
  {
   "cell_type": "code",
   "execution_count": null,
   "metadata": {},
   "outputs": [],
   "source": []
  },
  {
   "cell_type": "code",
   "execution_count": null,
   "metadata": {},
   "outputs": [],
   "source": []
  }
 ],
 "metadata": {
  "kernelspec": {
   "display_name": "Python 3",
   "language": "python",
   "name": "python3"
  },
  "language_info": {
   "codemirror_mode": {
    "name": "ipython",
    "version": 3
   },
   "file_extension": ".py",
   "mimetype": "text/x-python",
   "name": "python",
   "nbconvert_exporter": "python",
   "pygments_lexer": "ipython3",
   "version": "3.6.8"
  }
 },
 "nbformat": 4,
 "nbformat_minor": 2
}
