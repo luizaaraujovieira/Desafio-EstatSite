{
 "cells": [
  {
   "cell_type": "code",
   "execution_count": 14,
   "metadata": {},
   "outputs": [
    {
     "ename": "SyntaxError",
     "evalue": "invalid syntax (<ipython-input-14-910dcfc62a6a>, line 6)",
     "output_type": "error",
     "traceback": [
      "\u001b[0;36m  File \u001b[0;32m\"<ipython-input-14-910dcfc62a6a>\"\u001b[0;36m, line \u001b[0;32m6\u001b[0m\n\u001b[0;31m    <img src=\"https://media.giphy.com/media/gh6M02UhMgVrl0sIpe/giphy.gif\">\u001b[0m\n\u001b[0m    ^\u001b[0m\n\u001b[0;31mSyntaxError\u001b[0m\u001b[0;31m:\u001b[0m invalid syntax\n"
     ]
    }
   ],
   "source": [
    "## Desafio 1\n",
    "## Utilizando o dataset Fifa19: Se fossemos classificar a força dos clubes de acordo com a média do \n",
    "## campo Overall de seus jogadores, considerando somente clubes com pelo menos 25 jogadores, \n",
    "## qual seria o clube mais forte? E o mais fraco?\n",
    "\n",
    "<img src=\"https://media.giphy.com/media/gh6M02UhMgVrl0sIpe/giphy.gif\">\n",
    "<img src=\"https://media.giphy.com/media/gh6M02UhMgVrl0sIpe/giphy.gif\" width=\"750\" align=\"center\">"
   ]
  },
  {
   "cell_type": "code",
   "execution_count": 273,
   "metadata": {},
   "outputs": [],
   "source": [
    "import pandas as pd "
   ]
  },
  {
   "cell_type": "code",
   "execution_count": 274,
   "metadata": {},
   "outputs": [],
   "source": [
    "complete_data = pd.read_csv('fifa19.csv')"
   ]
  },
  {
   "cell_type": "code",
   "execution_count": 275,
   "metadata": {},
   "outputs": [],
   "source": [
    "## Agrupando pelos clubes \n",
    "total_jogadores = complete_data.groupby(by='Club', as_index=False).agg({'ID': pd.Series.nunique})\n",
    "\n",
    "## renomeando colunas\n",
    "total_jogadores = total_jogadores.rename(columns={'Club': 'Club', 'ID':'Total de jogadores'}) \n",
    "\n",
    "## Pegando apenas clubes que tenham pelo menos 25 jogadores\n",
    "total_jogadores = total_jogadores[total_jogadores['Total de jogadores']>=25]"
   ]
  },
  {
   "cell_type": "code",
   "execution_count": 276,
   "metadata": {},
   "outputs": [],
   "source": [
    "## Pegando a média do Overall de todos os clubes\n",
    "media_total = complete_data.groupby(by='Club', as_index=False).agg({'Overall': pd.Series.mean})"
   ]
  },
  {
   "cell_type": "code",
   "execution_count": 289,
   "metadata": {},
   "outputs": [],
   "source": [
    "## Juntando os dois dataframes media_total e total_jogadores pelos clubes\n",
    "df_final = pd.merge(media_total, total_jogadores, on=['Club'])\n",
    "\n",
    "df_final = df_final.drop('Total de jogadores', axis=1) # tirando a coluna Total de jogadores"
   ]
  },
  {
   "cell_type": "code",
   "execution_count": 294,
   "metadata": {},
   "outputs": [
    {
     "data": {
      "text/plain": [
       "Club       Śląsk Wrocław\n",
       "Overall            82.28\n",
       "dtype: object"
      ]
     },
     "execution_count": 294,
     "metadata": {},
     "output_type": "execute_result"
    }
   ],
   "source": [
    "## Clube com até 25 jogadores e com maior média de Overall\n",
    "df_final.max()"
   ]
  },
  {
   "cell_type": "code",
   "execution_count": 295,
   "metadata": {},
   "outputs": [
    {
     "data": {
      "text/plain": [
       "Club        SSV Jahn Regensburg\n",
       "Overall                      55\n",
       "dtype: object"
      ]
     },
     "execution_count": 295,
     "metadata": {},
     "output_type": "execute_result"
    }
   ],
   "source": [
    "## Clube com até 25 jogadores e com menor média de Overall\n",
    "\n",
    "df_final.min()"
   ]
  },
  {
   "cell_type": "code",
   "execution_count": null,
   "metadata": {},
   "outputs": [],
   "source": []
  },
  {
   "cell_type": "code",
   "execution_count": null,
   "metadata": {},
   "outputs": [],
   "source": []
  },
  {
   "cell_type": "code",
   "execution_count": null,
   "metadata": {},
   "outputs": [],
   "source": []
  },
  {
   "cell_type": "code",
   "execution_count": null,
   "metadata": {},
   "outputs": [],
   "source": []
  },
  {
   "cell_type": "code",
   "execution_count": null,
   "metadata": {},
   "outputs": [],
   "source": []
  },
  {
   "cell_type": "code",
   "execution_count": null,
   "metadata": {},
   "outputs": [],
   "source": []
  },
  {
   "cell_type": "code",
   "execution_count": null,
   "metadata": {},
   "outputs": [],
   "source": []
  }
 ],
 "metadata": {
  "kernelspec": {
   "display_name": "Python 3",
   "language": "python",
   "name": "python3"
  },
  "language_info": {
   "codemirror_mode": {
    "name": "ipython",
    "version": 3
   },
   "file_extension": ".py",
   "mimetype": "text/x-python",
   "name": "python",
   "nbconvert_exporter": "python",
   "pygments_lexer": "ipython3",
   "version": "3.6.8"
  }
 },
 "nbformat": 4,
 "nbformat_minor": 2
}
