{
 "cells": [
  {
   "cell_type": "code",
   "execution_count": 410,
   "metadata": {},
   "outputs": [],
   "source": [
    "## Exercício 2\n",
    "\n",
    "# Utilizando o dataset Fifa19: Se fossemos olhar somente para os 20 melhores\n",
    "# jogadores de cada seleção, qual nação teria o time mais forte utilizando o \n",
    "# critério da média do Overall de seus jogadores? Em outras palavras, filtre \n",
    "# somente os 20 melhores jogadores de cada seleção, sendo o critério de “melhor” \n",
    "# o campo Overall, e, utilizando o mesmo campo, verifique qual seleção tem a melhor média."
   ]
  },
  {
   "cell_type": "code",
   "execution_count": 411,
   "metadata": {},
   "outputs": [],
   "source": [
    "import pandas as pd "
   ]
  },
  {
   "cell_type": "code",
   "execution_count": 412,
   "metadata": {},
   "outputs": [],
   "source": [
    "data = pd.read_csv('fifa19.csv')\n",
    "\n",
    "## pegando apenas o q vamos usar\n",
    "data = data[['ID','Name','Nationality','Overall']]\n",
    "\n",
    "\n",
    "## Ordeando por Nationality e por maior Overall. Agrupando por Nationality. Listando entra os 20 primeiros,\n",
    "## já que temos ordenado pelos valores maiores.\n",
    "data = data.sort_values(['Overall'],ascending=False).groupby(['Nationality']).nth(list(range(20)))"
   ]
  },
  {
   "cell_type": "code",
   "execution_count": 413,
   "metadata": {},
   "outputs": [
    {
     "data": {
      "text/html": [
       "<div>\n",
       "<style scoped>\n",
       "    .dataframe tbody tr th:only-of-type {\n",
       "        vertical-align: middle;\n",
       "    }\n",
       "\n",
       "    .dataframe tbody tr th {\n",
       "        vertical-align: top;\n",
       "    }\n",
       "\n",
       "    .dataframe thead th {\n",
       "        text-align: right;\n",
       "    }\n",
       "</style>\n",
       "<table border=\"1\" class=\"dataframe\">\n",
       "  <thead>\n",
       "    <tr style=\"text-align: right;\">\n",
       "      <th></th>\n",
       "      <th>ID</th>\n",
       "      <th>Name</th>\n",
       "      <th>Overall</th>\n",
       "    </tr>\n",
       "    <tr>\n",
       "      <th>Nationality</th>\n",
       "      <th></th>\n",
       "      <th></th>\n",
       "      <th></th>\n",
       "    </tr>\n",
       "  </thead>\n",
       "  <tbody>\n",
       "    <tr>\n",
       "      <th>Afghanistan</th>\n",
       "      <td>244175</td>\n",
       "      <td>H. Amin</td>\n",
       "      <td>63</td>\n",
       "    </tr>\n",
       "    <tr>\n",
       "      <th>Afghanistan</th>\n",
       "      <td>237682</td>\n",
       "      <td>A. Najem</td>\n",
       "      <td>59</td>\n",
       "    </tr>\n",
       "    <tr>\n",
       "      <th>Afghanistan</th>\n",
       "      <td>233128</td>\n",
       "      <td>M. Kouhyar</td>\n",
       "      <td>62</td>\n",
       "    </tr>\n",
       "    <tr>\n",
       "      <th>Afghanistan</th>\n",
       "      <td>223989</td>\n",
       "      <td>N. Husin</td>\n",
       "      <td>60</td>\n",
       "    </tr>\n",
       "    <tr>\n",
       "      <th>Albania</th>\n",
       "      <td>176628</td>\n",
       "      <td>J. Hyka</td>\n",
       "      <td>69</td>\n",
       "    </tr>\n",
       "  </tbody>\n",
       "</table>\n",
       "</div>"
      ],
      "text/plain": [
       "                 ID        Name  Overall\n",
       "Nationality                             \n",
       "Afghanistan  244175     H. Amin       63\n",
       "Afghanistan  237682    A. Najem       59\n",
       "Afghanistan  233128  M. Kouhyar       62\n",
       "Afghanistan  223989    N. Husin       60\n",
       "Albania      176628     J. Hyka       69"
      ]
     },
     "execution_count": 413,
     "metadata": {},
     "output_type": "execute_result"
    }
   ],
   "source": [
    "## Aqui temos os 20 melhores jogadores de cada seleção\n",
    "## como são muito, vou visualizar apenas 5 de exemplo\n",
    "data.head(5)"
   ]
  },
  {
   "cell_type": "code",
   "execution_count": 414,
   "metadata": {},
   "outputs": [],
   "source": [
    "## tirando coluna do ID\n",
    "data = data.drop(columns=['ID'])\n",
    "\n",
    "## Pegando a média de cada país\n",
    "data = data.groupby(['Nationality']).mean()\n",
    "\n",
    "## Ordenado da maior média para a menor\n",
    "data = data.sort_values(['Overall'],ascending=False)"
   ]
  },
  {
   "cell_type": "code",
   "execution_count": 431,
   "metadata": {},
   "outputs": [
    {
     "data": {
      "text/html": [
       "<div>\n",
       "<style scoped>\n",
       "    .dataframe tbody tr th:only-of-type {\n",
       "        vertical-align: middle;\n",
       "    }\n",
       "\n",
       "    .dataframe tbody tr th {\n",
       "        vertical-align: top;\n",
       "    }\n",
       "\n",
       "    .dataframe thead th {\n",
       "        text-align: right;\n",
       "    }\n",
       "</style>\n",
       "<table border=\"1\" class=\"dataframe\">\n",
       "  <thead>\n",
       "    <tr style=\"text-align: right;\">\n",
       "      <th></th>\n",
       "      <th>Overall</th>\n",
       "    </tr>\n",
       "    <tr>\n",
       "      <th>Nationality</th>\n",
       "      <th></th>\n",
       "    </tr>\n",
       "  </thead>\n",
       "  <tbody>\n",
       "    <tr>\n",
       "      <th>Spain</th>\n",
       "      <td>86.3</td>\n",
       "    </tr>\n",
       "  </tbody>\n",
       "</table>\n",
       "</div>"
      ],
      "text/plain": [
       "             Overall\n",
       "Nationality         \n",
       "Spain           86.3"
      ]
     },
     "execution_count": 431,
     "metadata": {},
     "output_type": "execute_result"
    }
   ],
   "source": [
    "##  O país com a maior média (na lista de melhores 20 jogadores por seleção)\n",
    "data[:1]"
   ]
  },
  {
   "cell_type": "code",
   "execution_count": null,
   "metadata": {},
   "outputs": [],
   "source": []
  }
 ],
 "metadata": {
  "kernelspec": {
   "display_name": "Python 3",
   "language": "python",
   "name": "python3"
  },
  "language_info": {
   "codemirror_mode": {
    "name": "ipython",
    "version": 3
   },
   "file_extension": ".py",
   "mimetype": "text/x-python",
   "name": "python",
   "nbconvert_exporter": "python",
   "pygments_lexer": "ipython3",
   "version": "3.6.8"
  }
 },
 "nbformat": 4,
 "nbformat_minor": 2
}
