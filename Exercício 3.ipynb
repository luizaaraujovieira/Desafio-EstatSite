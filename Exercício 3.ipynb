{
 "cells": [
  {
   "cell_type": "code",
   "execution_count": 169,
   "metadata": {},
   "outputs": [],
   "source": [
    "## Exercício 3\n",
    "\n",
    "## Utilizando o dataset Fifa19: Neste exercício, considere o campo \n",
    "## Release Clause como sendo o valor do jogador. Considerando somente\n",
    "## os clubes que possuem mais de 25 jogadores, quais são os 5 clubes \n",
    "## mais valiosos?"
   ]
  },
  {
   "cell_type": "code",
   "execution_count": 170,
   "metadata": {},
   "outputs": [],
   "source": [
    "import pandas as pd\n",
    "complete_data = pd.read_csv('fifa19.csv')"
   ]
  },
  {
   "cell_type": "code",
   "execution_count": 171,
   "metadata": {},
   "outputs": [],
   "source": [
    "## Agrupando pelos clubes \n",
    "total_jogadores = complete_data.groupby(by='Club', as_index=False).agg({'ID': pd.Series.nunique})\n",
    "\n",
    "## renomeando colunas\n",
    "total_jogadores = total_jogadores.rename(columns={'Club': 'Club', 'ID':'Total de jogadores'}) \n",
    "\n",
    "## Pegando apenas clubes que tenham mais de  25 jogadores\n",
    "total_jogadores = total_jogadores[total_jogadores['Total de jogadores']>25]\n",
    "\n",
    "## Tirando os nomes e mantendo apenas a lista dos clubes\n",
    "lista_clubes = total_jogadores.drop(columns=['Total de jogadores'])"
   ]
  },
  {
   "cell_type": "code",
   "execution_count": 172,
   "metadata": {},
   "outputs": [],
   "source": [
    "## Pegando club e o valor\n",
    "df1 = complete_data[['Club','Release Clause']].sort_values(['Club'])\n",
    "\n",
    "## Tirando NaN\n",
    "df1 = df1.dropna()\n",
    "\n",
    "## Limpando e transformando de string para float\n",
    "df1['Release Clause'] = df1['Release Clause'].str.replace('€', '')\n",
    "\n",
    "df1['Release Clause'] = (df1['Release Clause'].replace(r'[KM]+$', '', regex=True).astype(float) * \\\n",
    "df1['Release Clause'].str.extract(r'[\\d\\.]+([KM]+)', expand=False).fillna(1).replace(['K','M'], [10**3, 10**6]).astype(int))\n",
    "df1['Release Clause'] = df1['Release Clause'].astype('int')\n",
    "\n",
    "## Agrupando por club e calculando a média de cada club\n",
    "df1 = df1.groupby(['Club']).mean()"
   ]
  },
  {
   "cell_type": "code",
   "execution_count": 173,
   "metadata": {},
   "outputs": [
    {
     "data": {
      "text/html": [
       "<div>\n",
       "<style scoped>\n",
       "    .dataframe tbody tr th:only-of-type {\n",
       "        vertical-align: middle;\n",
       "    }\n",
       "\n",
       "    .dataframe tbody tr th {\n",
       "        vertical-align: top;\n",
       "    }\n",
       "\n",
       "    .dataframe thead th {\n",
       "        text-align: right;\n",
       "    }\n",
       "</style>\n",
       "<table border=\"1\" class=\"dataframe\">\n",
       "  <thead>\n",
       "    <tr style=\"text-align: right;\">\n",
       "      <th></th>\n",
       "      <th>Club</th>\n",
       "      <th>Release Clause</th>\n",
       "    </tr>\n",
       "  </thead>\n",
       "  <tbody>\n",
       "    <tr>\n",
       "      <th>0</th>\n",
       "      <td>SSV Jahn Regensburg</td>\n",
       "      <td>1.290840e+06</td>\n",
       "    </tr>\n",
       "    <tr>\n",
       "      <th>1</th>\n",
       "      <td>1. FC Heidenheim 1846</td>\n",
       "      <td>1.628607e+06</td>\n",
       "    </tr>\n",
       "    <tr>\n",
       "      <th>2</th>\n",
       "      <td>1. FC Kaiserslautern</td>\n",
       "      <td>9.908462e+05</td>\n",
       "    </tr>\n",
       "    <tr>\n",
       "      <th>3</th>\n",
       "      <td>1. FC Köln</td>\n",
       "      <td>7.751643e+06</td>\n",
       "    </tr>\n",
       "    <tr>\n",
       "      <th>4</th>\n",
       "      <td>1. FC Magdeburg</td>\n",
       "      <td>1.289083e+06</td>\n",
       "    </tr>\n",
       "  </tbody>\n",
       "</table>\n",
       "</div>"
      ],
      "text/plain": [
       "                    Club  Release Clause\n",
       "0    SSV Jahn Regensburg    1.290840e+06\n",
       "1  1. FC Heidenheim 1846    1.628607e+06\n",
       "2   1. FC Kaiserslautern    9.908462e+05\n",
       "3             1. FC Köln    7.751643e+06\n",
       "4        1. FC Magdeburg    1.289083e+06"
      ]
     },
     "execution_count": 173,
     "metadata": {},
     "output_type": "execute_result"
    }
   ],
   "source": [
    "## Fazendo merge da lista dos clubes que tem mais de 25 jogadores e\n",
    "## da lista dos clubes com a média do Release Clause\n",
    "df_final = pd.merge(df1, lista_clubes, on=['Club'])\n",
    "\n",
    "## Lista dos 5 clubes mais valiosos\n",
    "df_final[:5]"
   ]
  },
  {
   "cell_type": "code",
   "execution_count": null,
   "metadata": {
    "scrolled": true
   },
   "outputs": [],
   "source": []
  },
  {
   "cell_type": "code",
   "execution_count": null,
   "metadata": {},
   "outputs": [],
   "source": []
  }
 ],
 "metadata": {
  "kernelspec": {
   "display_name": "Python 3",
   "language": "python",
   "name": "python3"
  },
  "language_info": {
   "codemirror_mode": {
    "name": "ipython",
    "version": 3
   },
   "file_extension": ".py",
   "mimetype": "text/x-python",
   "name": "python",
   "nbconvert_exporter": "python",
   "pygments_lexer": "ipython3",
   "version": "3.6.8"
  }
 },
 "nbformat": 4,
 "nbformat_minor": 2
}
