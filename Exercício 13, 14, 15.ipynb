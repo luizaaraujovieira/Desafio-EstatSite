{
 "cells": [
  {
   "cell_type": "code",
   "execution_count": 1,
   "metadata": {},
   "outputs": [],
   "source": [
    "## exercício 13"
   ]
  },
  {
   "cell_type": "code",
   "execution_count": null,
   "metadata": {},
   "outputs": [],
   "source": []
  },
  {
   "cell_type": "code",
   "execution_count": 2,
   "metadata": {},
   "outputs": [
    {
     "name": "stdout",
     "output_type": "stream",
     "text": [
      "Digite um número: 42735\n"
     ]
    }
   ],
   "source": [
    "a =int(input('Digite um número: '))"
   ]
  },
  {
   "cell_type": "code",
   "execution_count": 24,
   "metadata": {},
   "outputs": [
    {
     "name": "stdout",
     "output_type": "stream",
     "text": [
      "Digitos pares de 1 a 9 que não fazem parte \n",
      "do número inputado:  [8, 6]\n",
      "\n",
      "O número é ímpar\n"
     ]
    }
   ],
   "source": [
    "\n",
    "\n",
    "def func(x):\n",
    "    list_pares = [2,4,6,8]\n",
    "    digitos = [int(d) for d in str(a)] # transformando valor em digitos\n",
    "    print('Digitos pares de 1 a 9 que não fazem parte \\ndo número inputado: ',list(set(list_pares) - set(digitos)))\n",
    "            \n",
    "        \n",
    "        \n",
    "    if x % 2 == 0:\n",
    "        print('\\nO número é par')\n",
    "    else:\n",
    "        print('\\nO número é ímpar')\n",
    "        \n",
    "\n",
    "func(a)\n"
   ]
  },
  {
   "cell_type": "code",
   "execution_count": null,
   "metadata": {},
   "outputs": [],
   "source": [
    "\n"
   ]
  },
  {
   "cell_type": "code",
   "execution_count": 25,
   "metadata": {},
   "outputs": [],
   "source": [
    "\n"
   ]
  },
  {
   "cell_type": "code",
   "execution_count": 28,
   "metadata": {},
   "outputs": [
    {
     "name": "stdout",
     "output_type": "stream",
     "text": [
      "Digite uma palavra: chromatica\n"
     ]
    }
   ],
   "source": [
    "## exercício 14\n",
    "b =str(input('Digite uma palavra: '))"
   ]
  },
  {
   "cell_type": "code",
   "execution_count": 47,
   "metadata": {},
   "outputs": [
    {
     "data": {
      "text/plain": [
       "['c', 'h', 'r', 'o', 'm', 'a', 't', 'i']"
      ]
     },
     "execution_count": 47,
     "metadata": {},
     "output_type": "execute_result"
    }
   ],
   "source": [
    "def func2(x):\n",
    "    lista = [d for d in x]\n",
    "    lista_first = [] \n",
    "    [lista_first.append(x) for x in lista if x not in lista_first] \n",
    "    return lista_first\n",
    "    \n",
    "func2(b)"
   ]
  },
  {
   "cell_type": "code",
   "execution_count": null,
   "metadata": {},
   "outputs": [],
   "source": [
    "\n"
   ]
  },
  {
   "cell_type": "code",
   "execution_count": null,
   "metadata": {},
   "outputs": [],
   "source": [
    "\n"
   ]
  },
  {
   "cell_type": "code",
   "execution_count": 215,
   "metadata": {},
   "outputs": [
    {
     "name": "stdout",
     "output_type": "stream",
     "text": [
      "Digite um número : 20\n",
      "Digite um percentil: 75\n"
     ]
    }
   ],
   "source": [
    "## Exercício 15\n",
    "number  =int(input('Digite um número : '))\n",
    "percentil = float(input('Digite um percentil: '))"
   ]
  },
  {
   "cell_type": "code",
   "execution_count": 230,
   "metadata": {},
   "outputs": [
    {
     "name": "stdout",
     "output_type": "stream",
     "text": [
      "O percentil é :  15\n"
     ]
    }
   ],
   "source": [
    "\n",
    "def return_percentile(x):\n",
    "    lista = []\n",
    "    [lista.append(x) for x in range(number) if x not in lista]\n",
    "    posicao = round((percentil*number/100))              \n",
    "    print('O percentil é : ',lista[posicao])\n",
    "\n",
    "\n",
    "return_percentile(number)"
   ]
  },
  {
   "cell_type": "code",
   "execution_count": null,
   "metadata": {},
   "outputs": [],
   "source": []
  },
  {
   "cell_type": "code",
   "execution_count": null,
   "metadata": {},
   "outputs": [],
   "source": [
    "\n"
   ]
  },
  {
   "cell_type": "code",
   "execution_count": null,
   "metadata": {},
   "outputs": [],
   "source": []
  },
  {
   "cell_type": "code",
   "execution_count": null,
   "metadata": {},
   "outputs": [],
   "source": []
  }
 ],
 "metadata": {
  "kernelspec": {
   "display_name": "Python 3",
   "language": "python",
   "name": "python3"
  },
  "language_info": {
   "codemirror_mode": {
    "name": "ipython",
    "version": 3
   },
   "file_extension": ".py",
   "mimetype": "text/x-python",
   "name": "python",
   "nbconvert_exporter": "python",
   "pygments_lexer": "ipython3",
   "version": "3.6.8"
  }
 },
 "nbformat": 4,
 "nbformat_minor": 2
}
